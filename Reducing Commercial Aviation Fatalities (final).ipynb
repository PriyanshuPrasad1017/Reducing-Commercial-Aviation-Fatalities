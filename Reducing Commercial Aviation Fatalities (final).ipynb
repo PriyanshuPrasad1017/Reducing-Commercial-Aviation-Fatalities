{
 "cells": [
  {
   "cell_type": "code",
   "execution_count": 93,
   "metadata": {},
   "outputs": [],
   "source": [
    "import warnings\n",
    "import itertools\n",
    "import numpy as np \n",
    "import pandas as pd\n",
    "import seaborn as sns\n",
    "import lightgbm as lgb\n",
    "import matplotlib.pyplot as plt\n",
    "from sklearn.model_selection import train_test_split\n",
    "from sklearn.metrics import confusion_matrix,accuracy_score\n",
    "import warnings\n",
    "warnings.filterwarnings(\"ignore\")"
   ]
  },
  {
   "cell_type": "markdown",
   "metadata": {},
   "source": [
    "# Exploratory Data Analysis"
   ]
  },
  {
   "cell_type": "code",
   "execution_count": 2,
   "metadata": {
    "_cell_guid": "79c7e3d0-c299-4dcb-8224-4455121ee9b0",
    "_uuid": "d629ff2d2480ee46fbb7e2d37f6b5fab8052498a"
   },
   "outputs": [
    {
     "name": "stdout",
     "output_type": "stream",
     "text": [
      "Memory usage of dataframe is 1039.79 MB\n",
      "Memory usage after optimization is: 241.38 MB\n",
      "Decreased by 76.8%\n",
      "Memory usage of dataframe is 3837.77 MB\n",
      "Memory usage after optimization is: 942.31 MB\n",
      "Decreased by 75.4%\n"
     ]
    }
   ],
   "source": [
    "\n",
    "def reduce_mem_usage(df):\n",
    "    \"\"\" iterate through all the columns of a dataframe and modify the data type\n",
    "        to reduce memory usage.        \n",
    "    \"\"\"\n",
    "    start_mem = df.memory_usage().sum() / 1024**2\n",
    "    print('Memory usage of dataframe is {:.2f} MB'.format(start_mem))\n",
    "    \n",
    "    for col in df.columns:\n",
    "        col_type = df[col].dtype\n",
    "        \n",
    "        if col_type != object:\n",
    "            c_min = df[col].min()\n",
    "            c_max = df[col].max()\n",
    "            if str(col_type)[:3] == 'int':\n",
    "                if c_min > np.iinfo(np.int8).min and c_max < np.iinfo(np.int8).max:\n",
    "                    df[col] = df[col].astype(np.int8)\n",
    "                elif c_min > np.iinfo(np.int16).min and c_max < np.iinfo(np.int16).max:\n",
    "                    df[col] = df[col].astype(np.int16)\n",
    "                elif c_min > np.iinfo(np.int32).min and c_max < np.iinfo(np.int32).max:\n",
    "                    df[col] = df[col].astype(np.int32)\n",
    "                elif c_min > np.iinfo(np.int64).min and c_max < np.iinfo(np.int64).max:\n",
    "                    df[col] = df[col].astype(np.int64)  \n",
    "            else:\n",
    "                if c_min > np.finfo(np.float16).min and c_max < np.finfo(np.float16).max:\n",
    "                    df[col] = df[col].astype(np.float16)\n",
    "                elif c_min > np.finfo(np.float32).min and c_max < np.finfo(np.float32).max:\n",
    "                    df[col] = df[col].astype(np.float32)\n",
    "                else:\n",
    "                    df[col] = df[col].astype(np.float64)\n",
    "        else:\n",
    "            df[col] = df[col].astype('category')\n",
    "\n",
    "    end_mem = df.memory_usage().sum() / 1024**2\n",
    "    print('Memory usage after optimization is: {:.2f} MB'.format(end_mem))\n",
    "    print('Decreased by {:.1f}%'.format(100 * (start_mem - end_mem) / start_mem))\n",
    "    \n",
    "    return df\n",
    "\n",
    "\n",
    "def import_data(file):\n",
    "    \"\"\"create a dataframe and optimize its memory usage\"\"\"\n",
    "    df = pd.read_csv(file, parse_dates=True, keep_date_col=True)\n",
    "    df = reduce_mem_usage(df)\n",
    "    return df\n",
    "\n",
    "def plot_confusion_matrix(cm, classes,\n",
    "                          normalize=True,\n",
    "                          title='Confusion matrix',\n",
    "                          cmap=plt.cm.Blues):\n",
    "    \"\"\"\n",
    "    This function prints and plots the confusion matrix.\n",
    "    Normalization can be applied by setting `normalize=True`.\n",
    "    \"\"\"\n",
    "    if normalize:\n",
    "        cm = cm.astype('float') / cm.sum(axis=1)[:, np.newaxis]\n",
    "        print(\"Normalized confusion matrix\")\n",
    "    else:\n",
    "        print('Confusion matrix, without normalization')\n",
    "\n",
    "    print(cm)\n",
    "\n",
    "    plt.imshow(cm, interpolation='nearest', cmap=cmap)\n",
    "    plt.title(title)\n",
    "    plt.colorbar()\n",
    "    tick_marks = np.arange(len(classes))\n",
    "    plt.xticks(tick_marks, classes, rotation=45)\n",
    "    plt.yticks(tick_marks, classes)\n",
    "\n",
    "    fmt = '.2f' if normalize else 'd'\n",
    "    thresh = cm.max() / 2.\n",
    "    for i, j in itertools.product(range(cm.shape[0]), range(cm.shape[1])):\n",
    "        plt.text(j, i, format(cm[i, j], fmt),\n",
    "                 horizontalalignment=\"center\",\n",
    "                 color=\"white\" if cm[i, j] > thresh else \"black\")\n",
    "\n",
    "    plt.ylabel('True label')\n",
    "    plt.xlabel('Predicted label')\n",
    "    plt.tight_layout()\n",
    "    \n",
    "\n",
    "train = import_data(r\"C:\\Users\\priya\\OneDrive\\Desktop\\Priyanshu\\SEMESTER 5\\FDA\\Project Assignments\\dataset\\train.csv\")\n",
    "test = import_data(r\"C:\\Users\\priya\\OneDrive\\Desktop\\Priyanshu\\SEMESTER 5\\FDA\\Project Assignments\\dataset\\test.csv\")\n"
   ]
  },
  {
   "cell_type": "code",
   "execution_count": 3,
   "metadata": {},
   "outputs": [
    {
     "data": {
      "text/html": [
       "<div>\n",
       "<style scoped>\n",
       "    .dataframe tbody tr th:only-of-type {\n",
       "        vertical-align: middle;\n",
       "    }\n",
       "\n",
       "    .dataframe tbody tr th {\n",
       "        vertical-align: top;\n",
       "    }\n",
       "\n",
       "    .dataframe thead th {\n",
       "        text-align: right;\n",
       "    }\n",
       "</style>\n",
       "<table border=\"1\" class=\"dataframe\">\n",
       "  <thead>\n",
       "    <tr style=\"text-align: right;\">\n",
       "      <th></th>\n",
       "      <th>crew</th>\n",
       "      <th>experiment</th>\n",
       "      <th>time</th>\n",
       "      <th>seat</th>\n",
       "      <th>eeg_fp1</th>\n",
       "      <th>eeg_f7</th>\n",
       "      <th>eeg_f8</th>\n",
       "      <th>eeg_t4</th>\n",
       "      <th>eeg_t6</th>\n",
       "      <th>eeg_t5</th>\n",
       "      <th>...</th>\n",
       "      <th>eeg_c4</th>\n",
       "      <th>eeg_p4</th>\n",
       "      <th>eeg_poz</th>\n",
       "      <th>eeg_c3</th>\n",
       "      <th>eeg_cz</th>\n",
       "      <th>eeg_o2</th>\n",
       "      <th>ecg</th>\n",
       "      <th>r</th>\n",
       "      <th>gsr</th>\n",
       "      <th>event</th>\n",
       "    </tr>\n",
       "  </thead>\n",
       "  <tbody>\n",
       "    <tr>\n",
       "      <th>0</th>\n",
       "      <td>1</td>\n",
       "      <td>CA</td>\n",
       "      <td>0.011719</td>\n",
       "      <td>1</td>\n",
       "      <td>-5.285156</td>\n",
       "      <td>26.781250</td>\n",
       "      <td>-9.523438</td>\n",
       "      <td>-12.796875</td>\n",
       "      <td>16.718750</td>\n",
       "      <td>33.75000</td>\n",
       "      <td>...</td>\n",
       "      <td>37.375000</td>\n",
       "      <td>17.437500</td>\n",
       "      <td>19.203125</td>\n",
       "      <td>20.593750</td>\n",
       "      <td>-3.951172</td>\n",
       "      <td>14.507812</td>\n",
       "      <td>-4520.0</td>\n",
       "      <td>817.5</td>\n",
       "      <td>388.75</td>\n",
       "      <td>A</td>\n",
       "    </tr>\n",
       "    <tr>\n",
       "      <th>1</th>\n",
       "      <td>1</td>\n",
       "      <td>CA</td>\n",
       "      <td>0.015625</td>\n",
       "      <td>1</td>\n",
       "      <td>-2.427734</td>\n",
       "      <td>28.437500</td>\n",
       "      <td>-9.320312</td>\n",
       "      <td>-3.757812</td>\n",
       "      <td>15.968750</td>\n",
       "      <td>30.43750</td>\n",
       "      <td>...</td>\n",
       "      <td>31.171875</td>\n",
       "      <td>19.406250</td>\n",
       "      <td>19.687500</td>\n",
       "      <td>21.359375</td>\n",
       "      <td>1.332031</td>\n",
       "      <td>17.750000</td>\n",
       "      <td>-4520.0</td>\n",
       "      <td>817.5</td>\n",
       "      <td>388.75</td>\n",
       "      <td>A</td>\n",
       "    </tr>\n",
       "    <tr>\n",
       "      <th>2</th>\n",
       "      <td>1</td>\n",
       "      <td>CA</td>\n",
       "      <td>0.019531</td>\n",
       "      <td>1</td>\n",
       "      <td>10.671875</td>\n",
       "      <td>30.421875</td>\n",
       "      <td>15.351562</td>\n",
       "      <td>24.718750</td>\n",
       "      <td>16.140625</td>\n",
       "      <td>32.15625</td>\n",
       "      <td>...</td>\n",
       "      <td>-12.015625</td>\n",
       "      <td>19.390625</td>\n",
       "      <td>23.171875</td>\n",
       "      <td>22.406250</td>\n",
       "      <td>1.538086</td>\n",
       "      <td>22.250000</td>\n",
       "      <td>-4520.0</td>\n",
       "      <td>817.5</td>\n",
       "      <td>388.75</td>\n",
       "      <td>A</td>\n",
       "    </tr>\n",
       "    <tr>\n",
       "      <th>3</th>\n",
       "      <td>1</td>\n",
       "      <td>CA</td>\n",
       "      <td>0.023438</td>\n",
       "      <td>1</td>\n",
       "      <td>11.453125</td>\n",
       "      <td>25.609375</td>\n",
       "      <td>2.433594</td>\n",
       "      <td>12.414062</td>\n",
       "      <td>20.531250</td>\n",
       "      <td>31.50000</td>\n",
       "      <td>...</td>\n",
       "      <td>18.578125</td>\n",
       "      <td>23.156250</td>\n",
       "      <td>22.640625</td>\n",
       "      <td>19.343750</td>\n",
       "      <td>2.544922</td>\n",
       "      <td>19.000000</td>\n",
       "      <td>-4520.0</td>\n",
       "      <td>817.5</td>\n",
       "      <td>388.75</td>\n",
       "      <td>A</td>\n",
       "    </tr>\n",
       "    <tr>\n",
       "      <th>4</th>\n",
       "      <td>1</td>\n",
       "      <td>CA</td>\n",
       "      <td>0.027344</td>\n",
       "      <td>1</td>\n",
       "      <td>7.285156</td>\n",
       "      <td>25.937500</td>\n",
       "      <td>0.113586</td>\n",
       "      <td>5.746094</td>\n",
       "      <td>19.828125</td>\n",
       "      <td>28.75000</td>\n",
       "      <td>...</td>\n",
       "      <td>6.554688</td>\n",
       "      <td>22.750000</td>\n",
       "      <td>22.671875</td>\n",
       "      <td>20.296875</td>\n",
       "      <td>1.699219</td>\n",
       "      <td>22.812500</td>\n",
       "      <td>-4520.0</td>\n",
       "      <td>817.5</td>\n",
       "      <td>388.75</td>\n",
       "      <td>A</td>\n",
       "    </tr>\n",
       "  </tbody>\n",
       "</table>\n",
       "<p>5 rows × 28 columns</p>\n",
       "</div>"
      ],
      "text/plain": [
       "   crew experiment      time  seat    eeg_fp1     eeg_f7     eeg_f8  \\\n",
       "0     1         CA  0.011719     1  -5.285156  26.781250  -9.523438   \n",
       "1     1         CA  0.015625     1  -2.427734  28.437500  -9.320312   \n",
       "2     1         CA  0.019531     1  10.671875  30.421875  15.351562   \n",
       "3     1         CA  0.023438     1  11.453125  25.609375   2.433594   \n",
       "4     1         CA  0.027344     1   7.285156  25.937500   0.113586   \n",
       "\n",
       "      eeg_t4     eeg_t6    eeg_t5  ...     eeg_c4     eeg_p4    eeg_poz  \\\n",
       "0 -12.796875  16.718750  33.75000  ...  37.375000  17.437500  19.203125   \n",
       "1  -3.757812  15.968750  30.43750  ...  31.171875  19.406250  19.687500   \n",
       "2  24.718750  16.140625  32.15625  ... -12.015625  19.390625  23.171875   \n",
       "3  12.414062  20.531250  31.50000  ...  18.578125  23.156250  22.640625   \n",
       "4   5.746094  19.828125  28.75000  ...   6.554688  22.750000  22.671875   \n",
       "\n",
       "      eeg_c3    eeg_cz     eeg_o2     ecg      r     gsr  event  \n",
       "0  20.593750 -3.951172  14.507812 -4520.0  817.5  388.75      A  \n",
       "1  21.359375  1.332031  17.750000 -4520.0  817.5  388.75      A  \n",
       "2  22.406250  1.538086  22.250000 -4520.0  817.5  388.75      A  \n",
       "3  19.343750  2.544922  19.000000 -4520.0  817.5  388.75      A  \n",
       "4  20.296875  1.699219  22.812500 -4520.0  817.5  388.75      A  \n",
       "\n",
       "[5 rows x 28 columns]"
      ]
     },
     "execution_count": 3,
     "metadata": {},
     "output_type": "execute_result"
    }
   ],
   "source": [
    "train.head()"
   ]
  },
  {
   "cell_type": "code",
   "execution_count": 4,
   "metadata": {},
   "outputs": [
    {
     "data": {
      "text/html": [
       "<div>\n",
       "<style scoped>\n",
       "    .dataframe tbody tr th:only-of-type {\n",
       "        vertical-align: middle;\n",
       "    }\n",
       "\n",
       "    .dataframe tbody tr th {\n",
       "        vertical-align: top;\n",
       "    }\n",
       "\n",
       "    .dataframe thead th {\n",
       "        text-align: right;\n",
       "    }\n",
       "</style>\n",
       "<table border=\"1\" class=\"dataframe\">\n",
       "  <thead>\n",
       "    <tr style=\"text-align: right;\">\n",
       "      <th></th>\n",
       "      <th>id</th>\n",
       "      <th>crew</th>\n",
       "      <th>experiment</th>\n",
       "      <th>time</th>\n",
       "      <th>seat</th>\n",
       "      <th>eeg_fp1</th>\n",
       "      <th>eeg_f7</th>\n",
       "      <th>eeg_f8</th>\n",
       "      <th>eeg_t4</th>\n",
       "      <th>eeg_t6</th>\n",
       "      <th>...</th>\n",
       "      <th>eeg_f4</th>\n",
       "      <th>eeg_c4</th>\n",
       "      <th>eeg_p4</th>\n",
       "      <th>eeg_poz</th>\n",
       "      <th>eeg_c3</th>\n",
       "      <th>eeg_cz</th>\n",
       "      <th>eeg_o2</th>\n",
       "      <th>ecg</th>\n",
       "      <th>r</th>\n",
       "      <th>gsr</th>\n",
       "    </tr>\n",
       "  </thead>\n",
       "  <tbody>\n",
       "    <tr>\n",
       "      <th>0</th>\n",
       "      <td>0</td>\n",
       "      <td>1</td>\n",
       "      <td>LOFT</td>\n",
       "      <td>0.000000</td>\n",
       "      <td>0</td>\n",
       "      <td>17.906250</td>\n",
       "      <td>6.128906</td>\n",
       "      <td>0.994629</td>\n",
       "      <td>-28.203125</td>\n",
       "      <td>-47.687500</td>\n",
       "      <td>...</td>\n",
       "      <td>-7.042969</td>\n",
       "      <td>-14.406250</td>\n",
       "      <td>-4.035156</td>\n",
       "      <td>-0.393799</td>\n",
       "      <td>31.843750</td>\n",
       "      <td>17.078125</td>\n",
       "      <td>-8.140625</td>\n",
       "      <td>-7324.0</td>\n",
       "      <td>643.0</td>\n",
       "      <td>595.00</td>\n",
       "    </tr>\n",
       "    <tr>\n",
       "      <th>1</th>\n",
       "      <td>1</td>\n",
       "      <td>1</td>\n",
       "      <td>LOFT</td>\n",
       "      <td>0.000000</td>\n",
       "      <td>1</td>\n",
       "      <td>45.875000</td>\n",
       "      <td>94.750000</td>\n",
       "      <td>23.296875</td>\n",
       "      <td>1.391602</td>\n",
       "      <td>2.060547</td>\n",
       "      <td>...</td>\n",
       "      <td>19.890625</td>\n",
       "      <td>-215.125000</td>\n",
       "      <td>2.119141</td>\n",
       "      <td>7.339844</td>\n",
       "      <td>9.664062</td>\n",
       "      <td>1169.000000</td>\n",
       "      <td>-0.024414</td>\n",
       "      <td>-3336.0</td>\n",
       "      <td>826.5</td>\n",
       "      <td>136.25</td>\n",
       "    </tr>\n",
       "    <tr>\n",
       "      <th>2</th>\n",
       "      <td>2</td>\n",
       "      <td>1</td>\n",
       "      <td>LOFT</td>\n",
       "      <td>0.003906</td>\n",
       "      <td>0</td>\n",
       "      <td>33.125000</td>\n",
       "      <td>28.359375</td>\n",
       "      <td>-7.238281</td>\n",
       "      <td>-7.691406</td>\n",
       "      <td>-25.828125</td>\n",
       "      <td>...</td>\n",
       "      <td>-7.640625</td>\n",
       "      <td>-10.367188</td>\n",
       "      <td>10.953125</td>\n",
       "      <td>6.511719</td>\n",
       "      <td>36.031250</td>\n",
       "      <td>24.359375</td>\n",
       "      <td>0.956055</td>\n",
       "      <td>-7324.0</td>\n",
       "      <td>643.0</td>\n",
       "      <td>595.00</td>\n",
       "    </tr>\n",
       "    <tr>\n",
       "      <th>3</th>\n",
       "      <td>3</td>\n",
       "      <td>1</td>\n",
       "      <td>LOFT</td>\n",
       "      <td>0.003906</td>\n",
       "      <td>1</td>\n",
       "      <td>43.281250</td>\n",
       "      <td>95.875000</td>\n",
       "      <td>18.703125</td>\n",
       "      <td>-1.432617</td>\n",
       "      <td>-4.234375</td>\n",
       "      <td>...</td>\n",
       "      <td>13.828125</td>\n",
       "      <td>-214.250000</td>\n",
       "      <td>-4.914062</td>\n",
       "      <td>3.503906</td>\n",
       "      <td>3.878906</td>\n",
       "      <td>1159.000000</td>\n",
       "      <td>-0.047607</td>\n",
       "      <td>-3336.0</td>\n",
       "      <td>826.5</td>\n",
       "      <td>136.25</td>\n",
       "    </tr>\n",
       "    <tr>\n",
       "      <th>4</th>\n",
       "      <td>4</td>\n",
       "      <td>1</td>\n",
       "      <td>LOFT</td>\n",
       "      <td>0.007812</td>\n",
       "      <td>0</td>\n",
       "      <td>7.929688</td>\n",
       "      <td>3.460938</td>\n",
       "      <td>-10.859375</td>\n",
       "      <td>-26.359375</td>\n",
       "      <td>-25.890625</td>\n",
       "      <td>...</td>\n",
       "      <td>2.044922</td>\n",
       "      <td>-20.781250</td>\n",
       "      <td>-3.613281</td>\n",
       "      <td>-7.539062</td>\n",
       "      <td>3.083984</td>\n",
       "      <td>13.648438</td>\n",
       "      <td>1.473633</td>\n",
       "      <td>-7324.0</td>\n",
       "      <td>643.0</td>\n",
       "      <td>595.00</td>\n",
       "    </tr>\n",
       "  </tbody>\n",
       "</table>\n",
       "<p>5 rows × 28 columns</p>\n",
       "</div>"
      ],
      "text/plain": [
       "   id  crew experiment      time  seat    eeg_fp1     eeg_f7     eeg_f8  \\\n",
       "0   0     1       LOFT  0.000000     0  17.906250   6.128906   0.994629   \n",
       "1   1     1       LOFT  0.000000     1  45.875000  94.750000  23.296875   \n",
       "2   2     1       LOFT  0.003906     0  33.125000  28.359375  -7.238281   \n",
       "3   3     1       LOFT  0.003906     1  43.281250  95.875000  18.703125   \n",
       "4   4     1       LOFT  0.007812     0   7.929688   3.460938 -10.859375   \n",
       "\n",
       "      eeg_t4     eeg_t6  ...     eeg_f4      eeg_c4     eeg_p4   eeg_poz  \\\n",
       "0 -28.203125 -47.687500  ...  -7.042969  -14.406250  -4.035156 -0.393799   \n",
       "1   1.391602   2.060547  ...  19.890625 -215.125000   2.119141  7.339844   \n",
       "2  -7.691406 -25.828125  ...  -7.640625  -10.367188  10.953125  6.511719   \n",
       "3  -1.432617  -4.234375  ...  13.828125 -214.250000  -4.914062  3.503906   \n",
       "4 -26.359375 -25.890625  ...   2.044922  -20.781250  -3.613281 -7.539062   \n",
       "\n",
       "      eeg_c3       eeg_cz    eeg_o2     ecg      r     gsr  \n",
       "0  31.843750    17.078125 -8.140625 -7324.0  643.0  595.00  \n",
       "1   9.664062  1169.000000 -0.024414 -3336.0  826.5  136.25  \n",
       "2  36.031250    24.359375  0.956055 -7324.0  643.0  595.00  \n",
       "3   3.878906  1159.000000 -0.047607 -3336.0  826.5  136.25  \n",
       "4   3.083984    13.648438  1.473633 -7324.0  643.0  595.00  \n",
       "\n",
       "[5 rows x 28 columns]"
      ]
     },
     "execution_count": 4,
     "metadata": {},
     "output_type": "execute_result"
    }
   ],
   "source": [
    "test.head()"
   ]
  },
  {
   "cell_type": "code",
   "execution_count": 6,
   "metadata": {},
   "outputs": [
    {
     "name": "stdout",
     "output_type": "stream",
     "text": [
      "[(0, 'crew'), (1, 'experiment'), (2, 'time'), (3, 'seat'), (4, 'eeg_fp1'), (5, 'eeg_f7'), (6, 'eeg_f8'), (7, 'eeg_t4'), (8, 'eeg_t6'), (9, 'eeg_t5'), (10, 'eeg_t3'), (11, 'eeg_fp2'), (12, 'eeg_o1'), (13, 'eeg_p3'), (14, 'eeg_pz'), (15, 'eeg_f3'), (16, 'eeg_fz'), (17, 'eeg_f4'), (18, 'eeg_c4'), (19, 'eeg_p4'), (20, 'eeg_poz'), (21, 'eeg_c3'), (22, 'eeg_cz'), (23, 'eeg_o2'), (24, 'ecg'), (25, 'r'), (26, 'gsr'), (27, 'event')]\n",
      "\n",
      "[(0, 'id'), (1, 'crew'), (2, 'experiment'), (3, 'time'), (4, 'seat'), (5, 'eeg_fp1'), (6, 'eeg_f7'), (7, 'eeg_f8'), (8, 'eeg_t4'), (9, 'eeg_t6'), (10, 'eeg_t5'), (11, 'eeg_t3'), (12, 'eeg_fp2'), (13, 'eeg_o1'), (14, 'eeg_p3'), (15, 'eeg_pz'), (16, 'eeg_f3'), (17, 'eeg_fz'), (18, 'eeg_f4'), (19, 'eeg_c4'), (20, 'eeg_p4'), (21, 'eeg_poz'), (22, 'eeg_c3'), (23, 'eeg_cz'), (24, 'eeg_o2'), (25, 'ecg'), (26, 'r'), (27, 'gsr')]\n"
     ]
    }
   ],
   "source": [
    "print(list(enumerate(train.columns)))\n",
    "print()\n",
    "print(list(enumerate(test.columns)))"
   ]
  },
  {
   "cell_type": "markdown",
   "metadata": {},
   "source": [
    "The sensors are:\n",
    "\n",
    "eeg - Electroencephalogram - brain electrical activity sensors\n",
    "ecg - Electrocardiogram - heart electrical activity sensor,\n",
    "r - Respiration - chest movement sensor\n",
    "gsr - Galvanic Skin Response - skin reponse sensor.\n",
    "Our target feature is 'event'. There are 4 events in this test with the labels which we need to learn and predict:\n",
    "\n",
    "A - baseline\n",
    "B - SS - Startle/Surprise\n",
    "C - CA - Channelized Attention\n",
    "D - DA - Diverted Attention"
   ]
  },
  {
   "cell_type": "code",
   "execution_count": 8,
   "metadata": {},
   "outputs": [
    {
     "name": "stdout",
     "output_type": "stream",
     "text": [
      "(4867421, 28)\n",
      "(17965143, 28)\n"
     ]
    }
   ],
   "source": [
    "print(train.shape)\n",
    "print(test.shape)"
   ]
  },
  {
   "cell_type": "code",
   "execution_count": 9,
   "metadata": {},
   "outputs": [
    {
     "name": "stdout",
     "output_type": "stream",
     "text": [
      "[ 1  2  3  4  5  6  7  8 13]\n",
      "[ 1  2  3  4  5  6  7  8 13]\n"
     ]
    }
   ],
   "source": [
    "print(train.crew.unique())\n",
    "print(test.crew.unique())"
   ]
  },
  {
   "cell_type": "code",
   "execution_count": 16,
   "metadata": {},
   "outputs": [
    {
     "data": {
      "text/plain": [
       "crew          0\n",
       "experiment    0\n",
       "time          0\n",
       "seat          0\n",
       "eeg_fp1       0\n",
       "eeg_f7        0\n",
       "eeg_f8        0\n",
       "eeg_t4        0\n",
       "eeg_t6        0\n",
       "eeg_t5        0\n",
       "eeg_t3        0\n",
       "eeg_fp2       0\n",
       "eeg_o1        0\n",
       "eeg_p3        0\n",
       "eeg_pz        0\n",
       "eeg_f3        0\n",
       "eeg_fz        0\n",
       "eeg_f4        0\n",
       "eeg_c4        0\n",
       "eeg_p4        0\n",
       "eeg_poz       0\n",
       "eeg_c3        0\n",
       "eeg_cz        0\n",
       "eeg_o2        0\n",
       "ecg           0\n",
       "r             0\n",
       "gsr           0\n",
       "event         0\n",
       "dtype: int64"
      ]
     },
     "execution_count": 16,
     "metadata": {},
     "output_type": "execute_result"
    }
   ],
   "source": [
    "train.isnull().sum()"
   ]
  },
  {
   "cell_type": "markdown",
   "metadata": {},
   "source": [
    "No null values in train data"
   ]
  },
  {
   "cell_type": "code",
   "execution_count": 17,
   "metadata": {},
   "outputs": [
    {
     "data": {
      "text/plain": [
       "id            0\n",
       "crew          0\n",
       "experiment    0\n",
       "time          0\n",
       "seat          0\n",
       "eeg_fp1       0\n",
       "eeg_f7        0\n",
       "eeg_f8        0\n",
       "eeg_t4        0\n",
       "eeg_t6        0\n",
       "eeg_t5        0\n",
       "eeg_t3        0\n",
       "eeg_fp2       0\n",
       "eeg_o1        0\n",
       "eeg_p3        0\n",
       "eeg_pz        0\n",
       "eeg_f3        0\n",
       "eeg_fz        0\n",
       "eeg_f4        0\n",
       "eeg_c4        0\n",
       "eeg_p4        0\n",
       "eeg_poz       0\n",
       "eeg_c3        0\n",
       "eeg_cz        0\n",
       "eeg_o2        0\n",
       "ecg           0\n",
       "r             0\n",
       "gsr           0\n",
       "dtype: int64"
      ]
     },
     "execution_count": 17,
     "metadata": {},
     "output_type": "execute_result"
    }
   ],
   "source": [
    "test.isnull().sum()"
   ]
  },
  {
   "cell_type": "markdown",
   "metadata": {},
   "source": [
    "No null values in test data"
   ]
  },
  {
   "cell_type": "code",
   "execution_count": 19,
   "metadata": {},
   "outputs": [
    {
     "data": {
      "text/html": [
       "<div>\n",
       "<style scoped>\n",
       "    .dataframe tbody tr th:only-of-type {\n",
       "        vertical-align: middle;\n",
       "    }\n",
       "\n",
       "    .dataframe tbody tr th {\n",
       "        vertical-align: top;\n",
       "    }\n",
       "\n",
       "    .dataframe thead th {\n",
       "        text-align: right;\n",
       "    }\n",
       "</style>\n",
       "<table border=\"1\" class=\"dataframe\">\n",
       "  <thead>\n",
       "    <tr style=\"text-align: right;\">\n",
       "      <th>event</th>\n",
       "      <th>A</th>\n",
       "      <th>B</th>\n",
       "      <th>C</th>\n",
       "      <th>D</th>\n",
       "    </tr>\n",
       "    <tr>\n",
       "      <th>experiment</th>\n",
       "      <th></th>\n",
       "      <th></th>\n",
       "      <th></th>\n",
       "      <th></th>\n",
       "    </tr>\n",
       "  </thead>\n",
       "  <tbody>\n",
       "    <tr>\n",
       "      <th>CA</th>\n",
       "      <td>5690</td>\n",
       "      <td>0</td>\n",
       "      <td>1652686</td>\n",
       "      <td>0</td>\n",
       "    </tr>\n",
       "    <tr>\n",
       "      <th>DA</th>\n",
       "      <td>1423064</td>\n",
       "      <td>0</td>\n",
       "      <td>0</td>\n",
       "      <td>235329</td>\n",
       "    </tr>\n",
       "    <tr>\n",
       "      <th>SS</th>\n",
       "      <td>1420055</td>\n",
       "      <td>130597</td>\n",
       "      <td>0</td>\n",
       "      <td>0</td>\n",
       "    </tr>\n",
       "  </tbody>\n",
       "</table>\n",
       "</div>"
      ],
      "text/plain": [
       "event             A       B        C       D\n",
       "experiment                                  \n",
       "CA             5690       0  1652686       0\n",
       "DA          1423064       0        0  235329\n",
       "SS          1420055  130597        0       0"
      ]
     },
     "execution_count": 19,
     "metadata": {},
     "output_type": "execute_result"
    }
   ],
   "source": [
    "pd.crosstab(train.experiment,train.event)"
   ]
  },
  {
   "cell_type": "markdown",
   "metadata": {},
   "source": [
    "A indicates Baseline(no event), B indicates Startle/Surprise, C indicates CA, and D indicates DA"
   ]
  },
  {
   "cell_type": "code",
   "execution_count": 20,
   "metadata": {},
   "outputs": [
    {
     "data": {
      "text/html": [
       "<div>\n",
       "<style scoped>\n",
       "    .dataframe tbody tr th:only-of-type {\n",
       "        vertical-align: middle;\n",
       "    }\n",
       "\n",
       "    .dataframe tbody tr th {\n",
       "        vertical-align: top;\n",
       "    }\n",
       "\n",
       "    .dataframe thead th {\n",
       "        text-align: right;\n",
       "    }\n",
       "</style>\n",
       "<table border=\"1\" class=\"dataframe\">\n",
       "  <thead>\n",
       "    <tr style=\"text-align: right;\">\n",
       "      <th>crew</th>\n",
       "      <th>1</th>\n",
       "      <th>2</th>\n",
       "      <th>3</th>\n",
       "      <th>4</th>\n",
       "      <th>5</th>\n",
       "      <th>6</th>\n",
       "      <th>7</th>\n",
       "      <th>8</th>\n",
       "      <th>13</th>\n",
       "    </tr>\n",
       "    <tr>\n",
       "      <th>experiment</th>\n",
       "      <th></th>\n",
       "      <th></th>\n",
       "      <th></th>\n",
       "      <th></th>\n",
       "      <th></th>\n",
       "      <th></th>\n",
       "      <th></th>\n",
       "      <th></th>\n",
       "      <th></th>\n",
       "    </tr>\n",
       "  </thead>\n",
       "  <tbody>\n",
       "    <tr>\n",
       "      <th>CA</th>\n",
       "      <td>184299</td>\n",
       "      <td>184232</td>\n",
       "      <td>184232</td>\n",
       "      <td>184337</td>\n",
       "      <td>184252</td>\n",
       "      <td>184254</td>\n",
       "      <td>184238</td>\n",
       "      <td>184244</td>\n",
       "      <td>184288</td>\n",
       "    </tr>\n",
       "    <tr>\n",
       "      <th>DA</th>\n",
       "      <td>184207</td>\n",
       "      <td>184293</td>\n",
       "      <td>184274</td>\n",
       "      <td>184301</td>\n",
       "      <td>184292</td>\n",
       "      <td>184389</td>\n",
       "      <td>184235</td>\n",
       "      <td>184195</td>\n",
       "      <td>184207</td>\n",
       "    </tr>\n",
       "    <tr>\n",
       "      <th>SS</th>\n",
       "      <td>79146</td>\n",
       "      <td>184343</td>\n",
       "      <td>184289</td>\n",
       "      <td>184243</td>\n",
       "      <td>184271</td>\n",
       "      <td>184315</td>\n",
       "      <td>184296</td>\n",
       "      <td>181520</td>\n",
       "      <td>184229</td>\n",
       "    </tr>\n",
       "  </tbody>\n",
       "</table>\n",
       "</div>"
      ],
      "text/plain": [
       "crew            1       2       3       4       5       6       7       8   \\\n",
       "experiment                                                                   \n",
       "CA          184299  184232  184232  184337  184252  184254  184238  184244   \n",
       "DA          184207  184293  184274  184301  184292  184389  184235  184195   \n",
       "SS           79146  184343  184289  184243  184271  184315  184296  181520   \n",
       "\n",
       "crew            13  \n",
       "experiment          \n",
       "CA          184288  \n",
       "DA          184207  \n",
       "SS          184229  "
      ]
     },
     "execution_count": 20,
     "metadata": {},
     "output_type": "execute_result"
    }
   ],
   "source": [
    "pd.crosstab(train['experiment'], train['crew'])"
   ]
  },
  {
   "cell_type": "raw",
   "metadata": {},
   "source": [
    "All crews except crew 1 are exposed to a relatively same number of each experiment.\n",
    "79k SS experiments for crew 1"
   ]
  },
  {
   "cell_type": "code",
   "execution_count": 25,
   "metadata": {},
   "outputs": [
    {
     "data": {
      "image/png": "[encoded data removed]",
      "text/plain": [
       "<Figure size 576x432 with 1 Axes>"
      ]
     },
     "metadata": {
      "needs_background": "light"
     },
     "output_type": "display_data"
    }
   ],
   "source": [
    "plt.figure(figsize=(8,6))\n",
    "sns.countplot(train.event)\n",
    "plt.xlabel(\"State\", fontsize=12)\n",
    "plt.ylabel(\"Rows Count\", fontsize=12)\n",
    "plt.show()"
   ]
  },
  {
   "cell_type": "raw",
   "metadata": {},
   "source": [
    "Inference- \n",
    "Classes D and B are under represented\n",
    "Freqency of event A is highest"
   ]
  },
  {
   "cell_type": "code",
   "execution_count": 22,
   "metadata": {},
   "outputs": [
    {
     "data": {
      "text/plain": [
       "count    4.867421e+06\n",
       "mean              NaN\n",
       "std               NaN\n",
       "min      3.000259e-03\n",
       "25%      8.806250e+01\n",
       "50%      1.768750e+02\n",
       "75%      2.682500e+02\n",
       "max      3.602500e+02\n",
       "Name: time, dtype: float64"
      ]
     },
     "execution_count": 22,
     "metadata": {},
     "output_type": "execute_result"
    }
   ],
   "source": [
    "train.time.describe()"
   ]
  },
  {
   "cell_type": "code",
   "execution_count": 26,
   "metadata": {},
   "outputs": [
    {
     "data": {
      "image/png": "[encoded data removed]",
      "text/plain": [
       "<Figure size 720x576 with 1 Axes>"
      ]
     },
     "metadata": {
      "needs_background": "light"
     },
     "output_type": "display_data"
    }
   ],
   "source": [
    "plt.figure(figsize=(10,8))\n",
    "sns.violinplot(x='event', y='time', data=train.sample(50000))\n",
    "plt.ylabel(\"Time (s)\", fontsize=12)\n",
    "plt.xlabel(\"Event\", fontsize=12)\n",
    "plt.title(\"Which time do events occur at ?\", fontsize=15)\n",
    "plt.show()"
   ]
  },
  {
   "cell_type": "code",
   "execution_count": 27,
   "metadata": {},
   "outputs": [
    {
     "data": {
      "image/png": "[encoded data removed]",
      "text/plain": [
       "<Figure size 432x288 with 1 Axes>"
      ]
     },
     "metadata": {
      "needs_background": "light"
     },
     "output_type": "display_data"
    }
   ],
   "source": [
    "pd.crosstab(train.event,train.seat).plot(kind='bar')\n",
    "plt.xlabel(\"Event\", fontsize=12)\n",
    "plt.ylabel(\"Count\", fontsize=12)\n",
    "plt.show()"
   ]
  },
  {
   "cell_type": "markdown",
   "metadata": {},
   "source": [
    "No. of each type of event is similar for both seats"
   ]
  },
  {
   "cell_type": "markdown",
   "metadata": {},
   "source": [
    "# Data Wrangling"
   ]
  },
  {
   "cell_type": "markdown",
   "metadata": {},
   "source": [
    "### Encoding Categorical Text Variables"
   ]
  },
  {
   "cell_type": "markdown",
   "metadata": {},
   "source": [
    "There are two categorical variables in the train data (event,experiment)"
   ]
  },
  {
   "cell_type": "code",
   "execution_count": 28,
   "metadata": {},
   "outputs": [
    {
     "data": {
      "text/plain": [
       "DA    1658393\n",
       "CA    1658376\n",
       "SS    1550652\n",
       "Name: experiment, dtype: int64"
      ]
     },
     "execution_count": 28,
     "metadata": {},
     "output_type": "execute_result"
    }
   ],
   "source": [
    "train.experiment.value_counts()"
   ]
  },
  {
   "cell_type": "code",
   "execution_count": 29,
   "metadata": {},
   "outputs": [
    {
     "data": {
      "text/plain": [
       "LOFT    17965143\n",
       "Name: experiment, dtype: int64"
      ]
     },
     "execution_count": 29,
     "metadata": {},
     "output_type": "execute_result"
    }
   ],
   "source": [
    "test.experiment.value_counts()"
   ]
  },
  {
   "cell_type": "code",
   "execution_count": 30,
   "metadata": {},
   "outputs": [],
   "source": [
    "test_id = test['id']\n",
    "test.drop(['id'], axis=1, inplace=True)\n",
    "\n",
    "\n",
    "dic = {'A': 0, 'B': 1, 'C': 2, 'D': 3}\n",
    "dic1 = {'CA':0,'DA':1,'SS':3,'LOFT':4}\n",
    "train[\"event\"] = train[\"event\"].apply(lambda x: dic[x])\n",
    "train[\"event\"] = train[\"event\"].astype('int8')\n",
    "train['experiment'] = train['experiment'].apply(lambda x: dic1[x])\n",
    "test['experiment'] = test['experiment'].apply(lambda x: dic1[x])\n",
    "\n",
    "train['experiment'] = train['experiment'].astype('int8')\n",
    "test['experiment'] = test['experiment'].astype('int8')"
   ]
  },
  {
   "cell_type": "code",
   "execution_count": 31,
   "metadata": {},
   "outputs": [
    {
     "data": {
      "text/html": [
       "<div>\n",
       "<style scoped>\n",
       "    .dataframe tbody tr th:only-of-type {\n",
       "        vertical-align: middle;\n",
       "    }\n",
       "\n",
       "    .dataframe tbody tr th {\n",
       "        vertical-align: top;\n",
       "    }\n",
       "\n",
       "    .dataframe thead th {\n",
       "        text-align: right;\n",
       "    }\n",
       "</style>\n",
       "<table border=\"1\" class=\"dataframe\">\n",
       "  <thead>\n",
       "    <tr style=\"text-align: right;\">\n",
       "      <th></th>\n",
       "      <th>crew</th>\n",
       "      <th>experiment</th>\n",
       "      <th>time</th>\n",
       "      <th>seat</th>\n",
       "      <th>eeg_fp1</th>\n",
       "      <th>eeg_f7</th>\n",
       "      <th>eeg_f8</th>\n",
       "      <th>eeg_t4</th>\n",
       "      <th>eeg_t6</th>\n",
       "      <th>eeg_t5</th>\n",
       "      <th>...</th>\n",
       "      <th>eeg_c4</th>\n",
       "      <th>eeg_p4</th>\n",
       "      <th>eeg_poz</th>\n",
       "      <th>eeg_c3</th>\n",
       "      <th>eeg_cz</th>\n",
       "      <th>eeg_o2</th>\n",
       "      <th>ecg</th>\n",
       "      <th>r</th>\n",
       "      <th>gsr</th>\n",
       "      <th>event</th>\n",
       "    </tr>\n",
       "  </thead>\n",
       "  <tbody>\n",
       "    <tr>\n",
       "      <th>0</th>\n",
       "      <td>1</td>\n",
       "      <td>0</td>\n",
       "      <td>0.011719</td>\n",
       "      <td>1</td>\n",
       "      <td>-5.285156</td>\n",
       "      <td>26.781250</td>\n",
       "      <td>-9.523438</td>\n",
       "      <td>-12.796875</td>\n",
       "      <td>16.718750</td>\n",
       "      <td>33.75000</td>\n",
       "      <td>...</td>\n",
       "      <td>37.375000</td>\n",
       "      <td>17.437500</td>\n",
       "      <td>19.203125</td>\n",
       "      <td>20.593750</td>\n",
       "      <td>-3.951172</td>\n",
       "      <td>14.507812</td>\n",
       "      <td>-4520.0</td>\n",
       "      <td>817.5</td>\n",
       "      <td>388.75</td>\n",
       "      <td>0</td>\n",
       "    </tr>\n",
       "    <tr>\n",
       "      <th>1</th>\n",
       "      <td>1</td>\n",
       "      <td>0</td>\n",
       "      <td>0.015625</td>\n",
       "      <td>1</td>\n",
       "      <td>-2.427734</td>\n",
       "      <td>28.437500</td>\n",
       "      <td>-9.320312</td>\n",
       "      <td>-3.757812</td>\n",
       "      <td>15.968750</td>\n",
       "      <td>30.43750</td>\n",
       "      <td>...</td>\n",
       "      <td>31.171875</td>\n",
       "      <td>19.406250</td>\n",
       "      <td>19.687500</td>\n",
       "      <td>21.359375</td>\n",
       "      <td>1.332031</td>\n",
       "      <td>17.750000</td>\n",
       "      <td>-4520.0</td>\n",
       "      <td>817.5</td>\n",
       "      <td>388.75</td>\n",
       "      <td>0</td>\n",
       "    </tr>\n",
       "    <tr>\n",
       "      <th>2</th>\n",
       "      <td>1</td>\n",
       "      <td>0</td>\n",
       "      <td>0.019531</td>\n",
       "      <td>1</td>\n",
       "      <td>10.671875</td>\n",
       "      <td>30.421875</td>\n",
       "      <td>15.351562</td>\n",
       "      <td>24.718750</td>\n",
       "      <td>16.140625</td>\n",
       "      <td>32.15625</td>\n",
       "      <td>...</td>\n",
       "      <td>-12.015625</td>\n",
       "      <td>19.390625</td>\n",
       "      <td>23.171875</td>\n",
       "      <td>22.406250</td>\n",
       "      <td>1.538086</td>\n",
       "      <td>22.250000</td>\n",
       "      <td>-4520.0</td>\n",
       "      <td>817.5</td>\n",
       "      <td>388.75</td>\n",
       "      <td>0</td>\n",
       "    </tr>\n",
       "    <tr>\n",
       "      <th>3</th>\n",
       "      <td>1</td>\n",
       "      <td>0</td>\n",
       "      <td>0.023438</td>\n",
       "      <td>1</td>\n",
       "      <td>11.453125</td>\n",
       "      <td>25.609375</td>\n",
       "      <td>2.433594</td>\n",
       "      <td>12.414062</td>\n",
       "      <td>20.531250</td>\n",
       "      <td>31.50000</td>\n",
       "      <td>...</td>\n",
       "      <td>18.578125</td>\n",
       "      <td>23.156250</td>\n",
       "      <td>22.640625</td>\n",
       "      <td>19.343750</td>\n",
       "      <td>2.544922</td>\n",
       "      <td>19.000000</td>\n",
       "      <td>-4520.0</td>\n",
       "      <td>817.5</td>\n",
       "      <td>388.75</td>\n",
       "      <td>0</td>\n",
       "    </tr>\n",
       "    <tr>\n",
       "      <th>4</th>\n",
       "      <td>1</td>\n",
       "      <td>0</td>\n",
       "      <td>0.027344</td>\n",
       "      <td>1</td>\n",
       "      <td>7.285156</td>\n",
       "      <td>25.937500</td>\n",
       "      <td>0.113586</td>\n",
       "      <td>5.746094</td>\n",
       "      <td>19.828125</td>\n",
       "      <td>28.75000</td>\n",
       "      <td>...</td>\n",
       "      <td>6.554688</td>\n",
       "      <td>22.750000</td>\n",
       "      <td>22.671875</td>\n",
       "      <td>20.296875</td>\n",
       "      <td>1.699219</td>\n",
       "      <td>22.812500</td>\n",
       "      <td>-4520.0</td>\n",
       "      <td>817.5</td>\n",
       "      <td>388.75</td>\n",
       "      <td>0</td>\n",
       "    </tr>\n",
       "  </tbody>\n",
       "</table>\n",
       "<p>5 rows × 28 columns</p>\n",
       "</div>"
      ],
      "text/plain": [
       "   crew  experiment      time  seat    eeg_fp1     eeg_f7     eeg_f8  \\\n",
       "0     1           0  0.011719     1  -5.285156  26.781250  -9.523438   \n",
       "1     1           0  0.015625     1  -2.427734  28.437500  -9.320312   \n",
       "2     1           0  0.019531     1  10.671875  30.421875  15.351562   \n",
       "3     1           0  0.023438     1  11.453125  25.609375   2.433594   \n",
       "4     1           0  0.027344     1   7.285156  25.937500   0.113586   \n",
       "\n",
       "      eeg_t4     eeg_t6    eeg_t5  ...     eeg_c4     eeg_p4    eeg_poz  \\\n",
       "0 -12.796875  16.718750  33.75000  ...  37.375000  17.437500  19.203125   \n",
       "1  -3.757812  15.968750  30.43750  ...  31.171875  19.406250  19.687500   \n",
       "2  24.718750  16.140625  32.15625  ... -12.015625  19.390625  23.171875   \n",
       "3  12.414062  20.531250  31.50000  ...  18.578125  23.156250  22.640625   \n",
       "4   5.746094  19.828125  28.75000  ...   6.554688  22.750000  22.671875   \n",
       "\n",
       "      eeg_c3    eeg_cz     eeg_o2     ecg      r     gsr  event  \n",
       "0  20.593750 -3.951172  14.507812 -4520.0  817.5  388.75      0  \n",
       "1  21.359375  1.332031  17.750000 -4520.0  817.5  388.75      0  \n",
       "2  22.406250  1.538086  22.250000 -4520.0  817.5  388.75      0  \n",
       "3  19.343750  2.544922  19.000000 -4520.0  817.5  388.75      0  \n",
       "4  20.296875  1.699219  22.812500 -4520.0  817.5  388.75      0  \n",
       "\n",
       "[5 rows x 28 columns]"
      ]
     },
     "execution_count": 31,
     "metadata": {},
     "output_type": "execute_result"
    }
   ],
   "source": [
    "train.head()"
   ]
  },
  {
   "cell_type": "code",
   "execution_count": 32,
   "metadata": {},
   "outputs": [
    {
     "data": {
      "text/html": [
       "<div>\n",
       "<style scoped>\n",
       "    .dataframe tbody tr th:only-of-type {\n",
       "        vertical-align: middle;\n",
       "    }\n",
       "\n",
       "    .dataframe tbody tr th {\n",
       "        vertical-align: top;\n",
       "    }\n",
       "\n",
       "    .dataframe thead th {\n",
       "        text-align: right;\n",
       "    }\n",
       "</style>\n",
       "<table border=\"1\" class=\"dataframe\">\n",
       "  <thead>\n",
       "    <tr style=\"text-align: right;\">\n",
       "      <th></th>\n",
       "      <th>crew</th>\n",
       "      <th>experiment</th>\n",
       "      <th>time</th>\n",
       "      <th>seat</th>\n",
       "      <th>eeg_fp1</th>\n",
       "      <th>eeg_f7</th>\n",
       "      <th>eeg_f8</th>\n",
       "      <th>eeg_t4</th>\n",
       "      <th>eeg_t6</th>\n",
       "      <th>eeg_t5</th>\n",
       "      <th>...</th>\n",
       "      <th>eeg_f4</th>\n",
       "      <th>eeg_c4</th>\n",
       "      <th>eeg_p4</th>\n",
       "      <th>eeg_poz</th>\n",
       "      <th>eeg_c3</th>\n",
       "      <th>eeg_cz</th>\n",
       "      <th>eeg_o2</th>\n",
       "      <th>ecg</th>\n",
       "      <th>r</th>\n",
       "      <th>gsr</th>\n",
       "    </tr>\n",
       "  </thead>\n",
       "  <tbody>\n",
       "    <tr>\n",
       "      <th>0</th>\n",
       "      <td>1</td>\n",
       "      <td>4</td>\n",
       "      <td>0.000000</td>\n",
       "      <td>0</td>\n",
       "      <td>17.906250</td>\n",
       "      <td>6.128906</td>\n",
       "      <td>0.994629</td>\n",
       "      <td>-28.203125</td>\n",
       "      <td>-47.687500</td>\n",
       "      <td>-187.125000</td>\n",
       "      <td>...</td>\n",
       "      <td>-7.042969</td>\n",
       "      <td>-14.406250</td>\n",
       "      <td>-4.035156</td>\n",
       "      <td>-0.393799</td>\n",
       "      <td>31.843750</td>\n",
       "      <td>17.078125</td>\n",
       "      <td>-8.140625</td>\n",
       "      <td>-7324.0</td>\n",
       "      <td>643.0</td>\n",
       "      <td>595.00</td>\n",
       "    </tr>\n",
       "    <tr>\n",
       "      <th>1</th>\n",
       "      <td>1</td>\n",
       "      <td>4</td>\n",
       "      <td>0.000000</td>\n",
       "      <td>1</td>\n",
       "      <td>45.875000</td>\n",
       "      <td>94.750000</td>\n",
       "      <td>23.296875</td>\n",
       "      <td>1.391602</td>\n",
       "      <td>2.060547</td>\n",
       "      <td>-5.144531</td>\n",
       "      <td>...</td>\n",
       "      <td>19.890625</td>\n",
       "      <td>-215.125000</td>\n",
       "      <td>2.119141</td>\n",
       "      <td>7.339844</td>\n",
       "      <td>9.664062</td>\n",
       "      <td>1169.000000</td>\n",
       "      <td>-0.024414</td>\n",
       "      <td>-3336.0</td>\n",
       "      <td>826.5</td>\n",
       "      <td>136.25</td>\n",
       "    </tr>\n",
       "    <tr>\n",
       "      <th>2</th>\n",
       "      <td>1</td>\n",
       "      <td>4</td>\n",
       "      <td>0.003906</td>\n",
       "      <td>0</td>\n",
       "      <td>33.125000</td>\n",
       "      <td>28.359375</td>\n",
       "      <td>-7.238281</td>\n",
       "      <td>-7.691406</td>\n",
       "      <td>-25.828125</td>\n",
       "      <td>-107.250000</td>\n",
       "      <td>...</td>\n",
       "      <td>-7.640625</td>\n",
       "      <td>-10.367188</td>\n",
       "      <td>10.953125</td>\n",
       "      <td>6.511719</td>\n",
       "      <td>36.031250</td>\n",
       "      <td>24.359375</td>\n",
       "      <td>0.956055</td>\n",
       "      <td>-7324.0</td>\n",
       "      <td>643.0</td>\n",
       "      <td>595.00</td>\n",
       "    </tr>\n",
       "    <tr>\n",
       "      <th>3</th>\n",
       "      <td>1</td>\n",
       "      <td>4</td>\n",
       "      <td>0.003906</td>\n",
       "      <td>1</td>\n",
       "      <td>43.281250</td>\n",
       "      <td>95.875000</td>\n",
       "      <td>18.703125</td>\n",
       "      <td>-1.432617</td>\n",
       "      <td>-4.234375</td>\n",
       "      <td>-8.023438</td>\n",
       "      <td>...</td>\n",
       "      <td>13.828125</td>\n",
       "      <td>-214.250000</td>\n",
       "      <td>-4.914062</td>\n",
       "      <td>3.503906</td>\n",
       "      <td>3.878906</td>\n",
       "      <td>1159.000000</td>\n",
       "      <td>-0.047607</td>\n",
       "      <td>-3336.0</td>\n",
       "      <td>826.5</td>\n",
       "      <td>136.25</td>\n",
       "    </tr>\n",
       "    <tr>\n",
       "      <th>4</th>\n",
       "      <td>1</td>\n",
       "      <td>4</td>\n",
       "      <td>0.007812</td>\n",
       "      <td>0</td>\n",
       "      <td>7.929688</td>\n",
       "      <td>3.460938</td>\n",
       "      <td>-10.859375</td>\n",
       "      <td>-26.359375</td>\n",
       "      <td>-25.890625</td>\n",
       "      <td>37.000000</td>\n",
       "      <td>...</td>\n",
       "      <td>2.044922</td>\n",
       "      <td>-20.781250</td>\n",
       "      <td>-3.613281</td>\n",
       "      <td>-7.539062</td>\n",
       "      <td>3.083984</td>\n",
       "      <td>13.648438</td>\n",
       "      <td>1.473633</td>\n",
       "      <td>-7324.0</td>\n",
       "      <td>643.0</td>\n",
       "      <td>595.00</td>\n",
       "    </tr>\n",
       "  </tbody>\n",
       "</table>\n",
       "<p>5 rows × 27 columns</p>\n",
       "</div>"
      ],
      "text/plain": [
       "   crew  experiment      time  seat    eeg_fp1     eeg_f7     eeg_f8  \\\n",
       "0     1           4  0.000000     0  17.906250   6.128906   0.994629   \n",
       "1     1           4  0.000000     1  45.875000  94.750000  23.296875   \n",
       "2     1           4  0.003906     0  33.125000  28.359375  -7.238281   \n",
       "3     1           4  0.003906     1  43.281250  95.875000  18.703125   \n",
       "4     1           4  0.007812     0   7.929688   3.460938 -10.859375   \n",
       "\n",
       "      eeg_t4     eeg_t6      eeg_t5  ...     eeg_f4      eeg_c4     eeg_p4  \\\n",
       "0 -28.203125 -47.687500 -187.125000  ...  -7.042969  -14.406250  -4.035156   \n",
       "1   1.391602   2.060547   -5.144531  ...  19.890625 -215.125000   2.119141   \n",
       "2  -7.691406 -25.828125 -107.250000  ...  -7.640625  -10.367188  10.953125   \n",
       "3  -1.432617  -4.234375   -8.023438  ...  13.828125 -214.250000  -4.914062   \n",
       "4 -26.359375 -25.890625   37.000000  ...   2.044922  -20.781250  -3.613281   \n",
       "\n",
       "    eeg_poz     eeg_c3       eeg_cz    eeg_o2     ecg      r     gsr  \n",
       "0 -0.393799  31.843750    17.078125 -8.140625 -7324.0  643.0  595.00  \n",
       "1  7.339844   9.664062  1169.000000 -0.024414 -3336.0  826.5  136.25  \n",
       "2  6.511719  36.031250    24.359375  0.956055 -7324.0  643.0  595.00  \n",
       "3  3.503906   3.878906  1159.000000 -0.047607 -3336.0  826.5  136.25  \n",
       "4 -7.539062   3.083984    13.648438  1.473633 -7324.0  643.0  595.00  \n",
       "\n",
       "[5 rows x 27 columns]"
      ]
     },
     "execution_count": 32,
     "metadata": {},
     "output_type": "execute_result"
    }
   ],
   "source": [
    "test.head()"
   ]
  },
  {
   "cell_type": "markdown",
   "metadata": {},
   "source": [
    "### Z Score to detect Outliers"
   ]
  },
  {
   "cell_type": "code",
   "execution_count": 34,
   "metadata": {},
   "outputs": [],
   "source": [
    "from scipy import stats"
   ]
  },
  {
   "cell_type": "code",
   "execution_count": 35,
   "metadata": {},
   "outputs": [
    {
     "data": {
      "text/plain": [
       "array([[0., 0., 0., ..., 0., 0., 0.],\n",
       "       [0., 0., 0., ..., 0., 0., 0.],\n",
       "       [0., 0., 0., ..., 0., 0., 0.],\n",
       "       ...,\n",
       "       [0., 0., 0., ..., 0., 0., 0.],\n",
       "       [0., 0., 0., ..., 0., 0., 0.],\n",
       "       [0., 0., 0., ..., 0., 0., 0.]], dtype=float16)"
      ]
     },
     "execution_count": 35,
     "metadata": {},
     "output_type": "execute_result"
    }
   ],
   "source": [
    "z=np.abs(stats.zscore(train)) # calculating z score\n",
    "z"
   ]
  },
  {
   "cell_type": "code",
   "execution_count": 36,
   "metadata": {},
   "outputs": [
    {
     "data": {
      "text/plain": [
       "(array([], dtype=int64), array([], dtype=int64))"
      ]
     },
     "execution_count": 36,
     "metadata": {},
     "output_type": "execute_result"
    }
   ],
   "source": [
    "threshold=3\n",
    "np.where(z>threshold) # position where outliers are present"
   ]
  },
  {
   "cell_type": "markdown",
   "metadata": {},
   "source": [
    "There are no outliers in the data"
   ]
  },
  {
   "cell_type": "markdown",
   "metadata": {},
   "source": [
    "### Splitting independent and dependent variables"
   ]
  },
  {
   "cell_type": "code",
   "execution_count": 42,
   "metadata": {},
   "outputs": [],
   "source": [
    "y=train.event\n",
    "train.drop('event',axis=1,inplace=True)"
   ]
  },
  {
   "cell_type": "code",
   "execution_count": 48,
   "metadata": {},
   "outputs": [
    {
     "name": "stdout",
     "output_type": "stream",
     "text": [
      "Number of rows in X_train: 2920452\n",
      "Number of rows in X_test: 1946969\n"
     ]
    }
   ],
   "source": [
    "X_train, X_test, y_train, y_test = train_test_split(train, y, test_size=0.4, random_state=25)\n",
    "print(f'Number of rows in X_train: {X_train.shape[0]}')\n",
    "print(f'Number of rows in X_test: {X_test.shape[0]}')"
   ]
  },
  {
   "cell_type": "code",
   "execution_count": 49,
   "metadata": {},
   "outputs": [
    {
     "data": {
      "text/html": [
       "<div>\n",
       "<style scoped>\n",
       "    .dataframe tbody tr th:only-of-type {\n",
       "        vertical-align: middle;\n",
       "    }\n",
       "\n",
       "    .dataframe tbody tr th {\n",
       "        vertical-align: top;\n",
       "    }\n",
       "\n",
       "    .dataframe thead th {\n",
       "        text-align: right;\n",
       "    }\n",
       "</style>\n",
       "<table border=\"1\" class=\"dataframe\">\n",
       "  <thead>\n",
       "    <tr style=\"text-align: right;\">\n",
       "      <th></th>\n",
       "      <th>crew</th>\n",
       "      <th>experiment</th>\n",
       "      <th>time</th>\n",
       "      <th>seat</th>\n",
       "      <th>eeg_fp1</th>\n",
       "      <th>eeg_f7</th>\n",
       "      <th>eeg_f8</th>\n",
       "      <th>eeg_t4</th>\n",
       "      <th>eeg_t6</th>\n",
       "      <th>eeg_t5</th>\n",
       "      <th>...</th>\n",
       "      <th>eeg_f4</th>\n",
       "      <th>eeg_c4</th>\n",
       "      <th>eeg_p4</th>\n",
       "      <th>eeg_poz</th>\n",
       "      <th>eeg_c3</th>\n",
       "      <th>eeg_cz</th>\n",
       "      <th>eeg_o2</th>\n",
       "      <th>ecg</th>\n",
       "      <th>r</th>\n",
       "      <th>gsr</th>\n",
       "    </tr>\n",
       "  </thead>\n",
       "  <tbody>\n",
       "    <tr>\n",
       "      <th>2300006</th>\n",
       "      <td>5</td>\n",
       "      <td>1</td>\n",
       "      <td>114.750000</td>\n",
       "      <td>0</td>\n",
       "      <td>-26.843750</td>\n",
       "      <td>-19.734375</td>\n",
       "      <td>-12.429688</td>\n",
       "      <td>-16.031250</td>\n",
       "      <td>-5.886719</td>\n",
       "      <td>-15.664062</td>\n",
       "      <td>...</td>\n",
       "      <td>-59.531250</td>\n",
       "      <td>-49.125000</td>\n",
       "      <td>-14.445312</td>\n",
       "      <td>-14.546875</td>\n",
       "      <td>-18.546875</td>\n",
       "      <td>-25.437500</td>\n",
       "      <td>-15.921875</td>\n",
       "      <td>-2296.0</td>\n",
       "      <td>648.5</td>\n",
       "      <td>1672.00</td>\n",
       "    </tr>\n",
       "    <tr>\n",
       "      <th>4776153</th>\n",
       "      <td>13</td>\n",
       "      <td>3</td>\n",
       "      <td>261.500000</td>\n",
       "      <td>0</td>\n",
       "      <td>-2.169922</td>\n",
       "      <td>-0.635742</td>\n",
       "      <td>4.269531</td>\n",
       "      <td>19.000000</td>\n",
       "      <td>3.074219</td>\n",
       "      <td>-18.843750</td>\n",
       "      <td>...</td>\n",
       "      <td>2.146484</td>\n",
       "      <td>3.695312</td>\n",
       "      <td>0.699707</td>\n",
       "      <td>-7.644531</td>\n",
       "      <td>-23.000000</td>\n",
       "      <td>-2.755859</td>\n",
       "      <td>-1.703125</td>\n",
       "      <td>-14296.0</td>\n",
       "      <td>675.5</td>\n",
       "      <td>491.75</td>\n",
       "    </tr>\n",
       "    <tr>\n",
       "      <th>4151479</th>\n",
       "      <td>8</td>\n",
       "      <td>3</td>\n",
       "      <td>13.843750</td>\n",
       "      <td>1</td>\n",
       "      <td>-7.269531</td>\n",
       "      <td>-8.265625</td>\n",
       "      <td>6.808594</td>\n",
       "      <td>8.914062</td>\n",
       "      <td>11.242188</td>\n",
       "      <td>10.898438</td>\n",
       "      <td>...</td>\n",
       "      <td>1.213867</td>\n",
       "      <td>1.989258</td>\n",
       "      <td>2.845703</td>\n",
       "      <td>3.910156</td>\n",
       "      <td>2.314453</td>\n",
       "      <td>-5.312500</td>\n",
       "      <td>3.648438</td>\n",
       "      <td>6324.0</td>\n",
       "      <td>803.0</td>\n",
       "      <td>1172.00</td>\n",
       "    </tr>\n",
       "    <tr>\n",
       "      <th>556272</th>\n",
       "      <td>2</td>\n",
       "      <td>0</td>\n",
       "      <td>29.203125</td>\n",
       "      <td>1</td>\n",
       "      <td>6.253906</td>\n",
       "      <td>11.015625</td>\n",
       "      <td>4.101562</td>\n",
       "      <td>3.585938</td>\n",
       "      <td>-7.296875</td>\n",
       "      <td>1.021484</td>\n",
       "      <td>...</td>\n",
       "      <td>2.613281</td>\n",
       "      <td>0.601562</td>\n",
       "      <td>-3.646484</td>\n",
       "      <td>-3.464844</td>\n",
       "      <td>-0.345947</td>\n",
       "      <td>-0.851562</td>\n",
       "      <td>-7.355469</td>\n",
       "      <td>6564.0</td>\n",
       "      <td>817.0</td>\n",
       "      <td>1750.00</td>\n",
       "    </tr>\n",
       "    <tr>\n",
       "      <th>3319939</th>\n",
       "      <td>7</td>\n",
       "      <td>0</td>\n",
       "      <td>289.000000</td>\n",
       "      <td>1</td>\n",
       "      <td>11.664062</td>\n",
       "      <td>3.197266</td>\n",
       "      <td>18.640625</td>\n",
       "      <td>17.031250</td>\n",
       "      <td>7.816406</td>\n",
       "      <td>3.667969</td>\n",
       "      <td>...</td>\n",
       "      <td>8.257812</td>\n",
       "      <td>13.328125</td>\n",
       "      <td>8.453125</td>\n",
       "      <td>4.855469</td>\n",
       "      <td>3.414062</td>\n",
       "      <td>4.140625</td>\n",
       "      <td>9.101562</td>\n",
       "      <td>17840.0</td>\n",
       "      <td>831.0</td>\n",
       "      <td>708.00</td>\n",
       "    </tr>\n",
       "  </tbody>\n",
       "</table>\n",
       "<p>5 rows × 27 columns</p>\n",
       "</div>"
      ],
      "text/plain": [
       "         crew  experiment        time  seat    eeg_fp1     eeg_f7     eeg_f8  \\\n",
       "2300006     5           1  114.750000     0 -26.843750 -19.734375 -12.429688   \n",
       "4776153    13           3  261.500000     0  -2.169922  -0.635742   4.269531   \n",
       "4151479     8           3   13.843750     1  -7.269531  -8.265625   6.808594   \n",
       "556272      2           0   29.203125     1   6.253906  11.015625   4.101562   \n",
       "3319939     7           0  289.000000     1  11.664062   3.197266  18.640625   \n",
       "\n",
       "            eeg_t4     eeg_t6     eeg_t5  ...     eeg_f4     eeg_c4  \\\n",
       "2300006 -16.031250  -5.886719 -15.664062  ... -59.531250 -49.125000   \n",
       "4776153  19.000000   3.074219 -18.843750  ...   2.146484   3.695312   \n",
       "4151479   8.914062  11.242188  10.898438  ...   1.213867   1.989258   \n",
       "556272    3.585938  -7.296875   1.021484  ...   2.613281   0.601562   \n",
       "3319939  17.031250   7.816406   3.667969  ...   8.257812  13.328125   \n",
       "\n",
       "            eeg_p4    eeg_poz     eeg_c3     eeg_cz     eeg_o2      ecg  \\\n",
       "2300006 -14.445312 -14.546875 -18.546875 -25.437500 -15.921875  -2296.0   \n",
       "4776153   0.699707  -7.644531 -23.000000  -2.755859  -1.703125 -14296.0   \n",
       "4151479   2.845703   3.910156   2.314453  -5.312500   3.648438   6324.0   \n",
       "556272   -3.646484  -3.464844  -0.345947  -0.851562  -7.355469   6564.0   \n",
       "3319939   8.453125   4.855469   3.414062   4.140625   9.101562  17840.0   \n",
       "\n",
       "             r      gsr  \n",
       "2300006  648.5  1672.00  \n",
       "4776153  675.5   491.75  \n",
       "4151479  803.0  1172.00  \n",
       "556272   817.0  1750.00  \n",
       "3319939  831.0   708.00  \n",
       "\n",
       "[5 rows x 27 columns]"
      ]
     },
     "execution_count": 49,
     "metadata": {},
     "output_type": "execute_result"
    }
   ],
   "source": [
    "X_train.head()"
   ]
  },
  {
   "cell_type": "markdown",
   "metadata": {},
   "source": [
    "### Feature Importance"
   ]
  },
  {
   "cell_type": "code",
   "execution_count": 51,
   "metadata": {},
   "outputs": [
    {
     "data": {
      "text/plain": [
       "ExtraTreesClassifier()"
      ]
     },
     "execution_count": 51,
     "metadata": {},
     "output_type": "execute_result"
    }
   ],
   "source": [
    "from sklearn.ensemble import ExtraTreesClassifier\n",
    "model = ExtraTreesClassifier()\n",
    "model.fit(train,y)"
   ]
  },
  {
   "cell_type": "code",
   "execution_count": 52,
   "metadata": {},
   "outputs": [
    {
     "name": "stdout",
     "output_type": "stream",
     "text": [
      "[0.01531078 0.65336739 0.07294627 0.00400903 0.00748646 0.00718524\n",
      " 0.00773869 0.00464369 0.00420283 0.00408866 0.00507419 0.00788043\n",
      " 0.00427289 0.00411466 0.0056306  0.00664355 0.00591453 0.00626319\n",
      " 0.00441403 0.00442632 0.00486016 0.00462933 0.00539573 0.00437058\n",
      " 0.04270581 0.04304584 0.05937912]\n"
     ]
    }
   ],
   "source": [
    "print(model.feature_importances_)"
   ]
  },
  {
   "cell_type": "code",
   "execution_count": 54,
   "metadata": {},
   "outputs": [
    {
     "data": {
      "image/png": "[encoded data removed]",
      "text/plain": [
       "<Figure size 432x288 with 1 Axes>"
      ]
     },
     "metadata": {
      "needs_background": "light"
     },
     "output_type": "display_data"
    }
   ],
   "source": [
    "#plot graph of feature importances for better visualization\n",
    "feat_importances = pd.Series(model.feature_importances_, index=train.columns)\n",
    "feat_importances.nlargest(10).plot(kind='barh')\n",
    "plt.show()"
   ]
  },
  {
   "cell_type": "code",
   "execution_count": 55,
   "metadata": {},
   "outputs": [],
   "source": [
    "dfscores = pd.DataFrame(model.feature_importances_)\n",
    "dfcolumns = pd.DataFrame(train.columns)"
   ]
  },
  {
   "cell_type": "code",
   "execution_count": 56,
   "metadata": {
    "scrolled": true
   },
   "outputs": [
    {
     "data": {
      "text/html": [
       "<div>\n",
       "<style scoped>\n",
       "    .dataframe tbody tr th:only-of-type {\n",
       "        vertical-align: middle;\n",
       "    }\n",
       "\n",
       "    .dataframe tbody tr th {\n",
       "        vertical-align: top;\n",
       "    }\n",
       "\n",
       "    .dataframe thead th {\n",
       "        text-align: right;\n",
       "    }\n",
       "</style>\n",
       "<table border=\"1\" class=\"dataframe\">\n",
       "  <thead>\n",
       "    <tr style=\"text-align: right;\">\n",
       "      <th></th>\n",
       "      <th>Column_Name</th>\n",
       "      <th>Score</th>\n",
       "    </tr>\n",
       "  </thead>\n",
       "  <tbody>\n",
       "    <tr>\n",
       "      <th>0</th>\n",
       "      <td>crew</td>\n",
       "      <td>0.015311</td>\n",
       "    </tr>\n",
       "    <tr>\n",
       "      <th>1</th>\n",
       "      <td>experiment</td>\n",
       "      <td>0.653367</td>\n",
       "    </tr>\n",
       "    <tr>\n",
       "      <th>2</th>\n",
       "      <td>time</td>\n",
       "      <td>0.072946</td>\n",
       "    </tr>\n",
       "    <tr>\n",
       "      <th>3</th>\n",
       "      <td>seat</td>\n",
       "      <td>0.004009</td>\n",
       "    </tr>\n",
       "    <tr>\n",
       "      <th>4</th>\n",
       "      <td>eeg_fp1</td>\n",
       "      <td>0.007486</td>\n",
       "    </tr>\n",
       "    <tr>\n",
       "      <th>5</th>\n",
       "      <td>eeg_f7</td>\n",
       "      <td>0.007185</td>\n",
       "    </tr>\n",
       "    <tr>\n",
       "      <th>6</th>\n",
       "      <td>eeg_f8</td>\n",
       "      <td>0.007739</td>\n",
       "    </tr>\n",
       "    <tr>\n",
       "      <th>7</th>\n",
       "      <td>eeg_t4</td>\n",
       "      <td>0.004644</td>\n",
       "    </tr>\n",
       "    <tr>\n",
       "      <th>8</th>\n",
       "      <td>eeg_t6</td>\n",
       "      <td>0.004203</td>\n",
       "    </tr>\n",
       "    <tr>\n",
       "      <th>9</th>\n",
       "      <td>eeg_t5</td>\n",
       "      <td>0.004089</td>\n",
       "    </tr>\n",
       "    <tr>\n",
       "      <th>10</th>\n",
       "      <td>eeg_t3</td>\n",
       "      <td>0.005074</td>\n",
       "    </tr>\n",
       "    <tr>\n",
       "      <th>11</th>\n",
       "      <td>eeg_fp2</td>\n",
       "      <td>0.007880</td>\n",
       "    </tr>\n",
       "    <tr>\n",
       "      <th>12</th>\n",
       "      <td>eeg_o1</td>\n",
       "      <td>0.004273</td>\n",
       "    </tr>\n",
       "    <tr>\n",
       "      <th>13</th>\n",
       "      <td>eeg_p3</td>\n",
       "      <td>0.004115</td>\n",
       "    </tr>\n",
       "    <tr>\n",
       "      <th>14</th>\n",
       "      <td>eeg_pz</td>\n",
       "      <td>0.005631</td>\n",
       "    </tr>\n",
       "    <tr>\n",
       "      <th>15</th>\n",
       "      <td>eeg_f3</td>\n",
       "      <td>0.006644</td>\n",
       "    </tr>\n",
       "    <tr>\n",
       "      <th>16</th>\n",
       "      <td>eeg_fz</td>\n",
       "      <td>0.005915</td>\n",
       "    </tr>\n",
       "    <tr>\n",
       "      <th>17</th>\n",
       "      <td>eeg_f4</td>\n",
       "      <td>0.006263</td>\n",
       "    </tr>\n",
       "    <tr>\n",
       "      <th>18</th>\n",
       "      <td>eeg_c4</td>\n",
       "      <td>0.004414</td>\n",
       "    </tr>\n",
       "    <tr>\n",
       "      <th>19</th>\n",
       "      <td>eeg_p4</td>\n",
       "      <td>0.004426</td>\n",
       "    </tr>\n",
       "    <tr>\n",
       "      <th>20</th>\n",
       "      <td>eeg_poz</td>\n",
       "      <td>0.004860</td>\n",
       "    </tr>\n",
       "    <tr>\n",
       "      <th>21</th>\n",
       "      <td>eeg_c3</td>\n",
       "      <td>0.004629</td>\n",
       "    </tr>\n",
       "    <tr>\n",
       "      <th>22</th>\n",
       "      <td>eeg_cz</td>\n",
       "      <td>0.005396</td>\n",
       "    </tr>\n",
       "    <tr>\n",
       "      <th>23</th>\n",
       "      <td>eeg_o2</td>\n",
       "      <td>0.004371</td>\n",
       "    </tr>\n",
       "    <tr>\n",
       "      <th>24</th>\n",
       "      <td>ecg</td>\n",
       "      <td>0.042706</td>\n",
       "    </tr>\n",
       "    <tr>\n",
       "      <th>25</th>\n",
       "      <td>r</td>\n",
       "      <td>0.043046</td>\n",
       "    </tr>\n",
       "    <tr>\n",
       "      <th>26</th>\n",
       "      <td>gsr</td>\n",
       "      <td>0.059379</td>\n",
       "    </tr>\n",
       "  </tbody>\n",
       "</table>\n",
       "</div>"
      ],
      "text/plain": [
       "   Column_Name     Score\n",
       "0         crew  0.015311\n",
       "1   experiment  0.653367\n",
       "2         time  0.072946\n",
       "3         seat  0.004009\n",
       "4      eeg_fp1  0.007486\n",
       "5       eeg_f7  0.007185\n",
       "6       eeg_f8  0.007739\n",
       "7       eeg_t4  0.004644\n",
       "8       eeg_t6  0.004203\n",
       "9       eeg_t5  0.004089\n",
       "10      eeg_t3  0.005074\n",
       "11     eeg_fp2  0.007880\n",
       "12      eeg_o1  0.004273\n",
       "13      eeg_p3  0.004115\n",
       "14      eeg_pz  0.005631\n",
       "15      eeg_f3  0.006644\n",
       "16      eeg_fz  0.005915\n",
       "17      eeg_f4  0.006263\n",
       "18      eeg_c4  0.004414\n",
       "19      eeg_p4  0.004426\n",
       "20     eeg_poz  0.004860\n",
       "21      eeg_c3  0.004629\n",
       "22      eeg_cz  0.005396\n",
       "23      eeg_o2  0.004371\n",
       "24         ecg  0.042706\n",
       "25           r  0.043046\n",
       "26         gsr  0.059379"
      ]
     },
     "execution_count": 56,
     "metadata": {},
     "output_type": "execute_result"
    }
   ],
   "source": [
    "#concat two dataframes for better visualization \n",
    "featureScores = pd.concat([dfcolumns,dfscores],axis=1)\n",
    "featureScores.columns = ['Column_Name','Score']  #naming the dataframe columns\n",
    "featureScores"
   ]
  },
  {
   "cell_type": "code",
   "execution_count": 57,
   "metadata": {},
   "outputs": [
    {
     "name": "stdout",
     "output_type": "stream",
     "text": [
      "   Column_Name     Score\n",
      "1   experiment  0.653367\n",
      "2         time  0.072946\n",
      "26         gsr  0.059379\n",
      "25           r  0.043046\n",
      "24         ecg  0.042706\n",
      "0         crew  0.015311\n",
      "11     eeg_fp2  0.007880\n",
      "6       eeg_f8  0.007739\n",
      "4      eeg_fp1  0.007486\n",
      "5       eeg_f7  0.007185\n"
     ]
    }
   ],
   "source": [
    "print(featureScores.nlargest(10,'Score'))  #print 10 best features"
   ]
  },
  {
   "cell_type": "code",
   "execution_count": 60,
   "metadata": {},
   "outputs": [],
   "source": [
    "feature_names=['experiment','time','gsr','r','ecg','crew','eeg_fp2','eeg_f8','eeg_fp1','eeg_f7']"
   ]
  },
  {
   "cell_type": "code",
   "execution_count": 61,
   "metadata": {},
   "outputs": [
    {
     "data": {
      "text/html": [
       "<div>\n",
       "<style scoped>\n",
       "    .dataframe tbody tr th:only-of-type {\n",
       "        vertical-align: middle;\n",
       "    }\n",
       "\n",
       "    .dataframe tbody tr th {\n",
       "        vertical-align: top;\n",
       "    }\n",
       "\n",
       "    .dataframe thead th {\n",
       "        text-align: right;\n",
       "    }\n",
       "</style>\n",
       "<table border=\"1\" class=\"dataframe\">\n",
       "  <thead>\n",
       "    <tr style=\"text-align: right;\">\n",
       "      <th></th>\n",
       "      <th>experiment</th>\n",
       "      <th>time</th>\n",
       "      <th>gsr</th>\n",
       "      <th>r</th>\n",
       "      <th>ecg</th>\n",
       "      <th>crew</th>\n",
       "      <th>eeg_fp2</th>\n",
       "      <th>eeg_f8</th>\n",
       "      <th>eeg_fp1</th>\n",
       "      <th>eeg_f7</th>\n",
       "    </tr>\n",
       "  </thead>\n",
       "  <tbody>\n",
       "    <tr>\n",
       "      <th>0</th>\n",
       "      <td>0</td>\n",
       "      <td>0.011719</td>\n",
       "      <td>388.75</td>\n",
       "      <td>817.5</td>\n",
       "      <td>-4520.0</td>\n",
       "      <td>1</td>\n",
       "      <td>-6.695312</td>\n",
       "      <td>-9.523438</td>\n",
       "      <td>-5.285156</td>\n",
       "      <td>26.781250</td>\n",
       "    </tr>\n",
       "    <tr>\n",
       "      <th>1</th>\n",
       "      <td>0</td>\n",
       "      <td>0.015625</td>\n",
       "      <td>388.75</td>\n",
       "      <td>817.5</td>\n",
       "      <td>-4520.0</td>\n",
       "      <td>1</td>\n",
       "      <td>-6.476562</td>\n",
       "      <td>-9.320312</td>\n",
       "      <td>-2.427734</td>\n",
       "      <td>28.437500</td>\n",
       "    </tr>\n",
       "    <tr>\n",
       "      <th>2</th>\n",
       "      <td>0</td>\n",
       "      <td>0.019531</td>\n",
       "      <td>388.75</td>\n",
       "      <td>817.5</td>\n",
       "      <td>-4520.0</td>\n",
       "      <td>1</td>\n",
       "      <td>-0.088684</td>\n",
       "      <td>15.351562</td>\n",
       "      <td>10.671875</td>\n",
       "      <td>30.421875</td>\n",
       "    </tr>\n",
       "    <tr>\n",
       "      <th>3</th>\n",
       "      <td>0</td>\n",
       "      <td>0.023438</td>\n",
       "      <td>388.75</td>\n",
       "      <td>817.5</td>\n",
       "      <td>-4520.0</td>\n",
       "      <td>1</td>\n",
       "      <td>-0.256592</td>\n",
       "      <td>2.433594</td>\n",
       "      <td>11.453125</td>\n",
       "      <td>25.609375</td>\n",
       "    </tr>\n",
       "    <tr>\n",
       "      <th>4</th>\n",
       "      <td>0</td>\n",
       "      <td>0.027344</td>\n",
       "      <td>388.75</td>\n",
       "      <td>817.5</td>\n",
       "      <td>-4520.0</td>\n",
       "      <td>1</td>\n",
       "      <td>-1.953125</td>\n",
       "      <td>0.113586</td>\n",
       "      <td>7.285156</td>\n",
       "      <td>25.937500</td>\n",
       "    </tr>\n",
       "  </tbody>\n",
       "</table>\n",
       "</div>"
      ],
      "text/plain": [
       "   experiment      time     gsr      r     ecg  crew   eeg_fp2     eeg_f8  \\\n",
       "0           0  0.011719  388.75  817.5 -4520.0     1 -6.695312  -9.523438   \n",
       "1           0  0.015625  388.75  817.5 -4520.0     1 -6.476562  -9.320312   \n",
       "2           0  0.019531  388.75  817.5 -4520.0     1 -0.088684  15.351562   \n",
       "3           0  0.023438  388.75  817.5 -4520.0     1 -0.256592   2.433594   \n",
       "4           0  0.027344  388.75  817.5 -4520.0     1 -1.953125   0.113586   \n",
       "\n",
       "     eeg_fp1     eeg_f7  \n",
       "0  -5.285156  26.781250  \n",
       "1  -2.427734  28.437500  \n",
       "2  10.671875  30.421875  \n",
       "3  11.453125  25.609375  \n",
       "4   7.285156  25.937500  "
      ]
     },
     "execution_count": 61,
     "metadata": {},
     "output_type": "execute_result"
    }
   ],
   "source": [
    "train_fs=train[feature_names]\n",
    "train_fs.head()"
   ]
  },
  {
   "cell_type": "markdown",
   "metadata": {},
   "source": [
    "# Model Building and Evaluation"
   ]
  },
  {
   "cell_type": "markdown",
   "metadata": {},
   "source": [
    "### Decision Tree"
   ]
  },
  {
   "cell_type": "code",
   "execution_count": 81,
   "metadata": {},
   "outputs": [],
   "source": [
    "from sklearn.tree import DecisionTreeClassifier\n",
    "from sklearn.model_selection import GridSearchCV\n",
    "dt_grid=GridSearchCV(estimator=DecisionTreeClassifier(),param_grid={'criterion':[\"gini\", \"entropy\"]},cv=3)"
   ]
  },
  {
   "cell_type": "code",
   "execution_count": 82,
   "metadata": {},
   "outputs": [
    {
     "data": {
      "text/plain": [
       "GridSearchCV(cv=3, estimator=DecisionTreeClassifier(),\n",
       "             param_grid={'criterion': ['gini', 'entropy']})"
      ]
     },
     "execution_count": 82,
     "metadata": {},
     "output_type": "execute_result"
    }
   ],
   "source": [
    "dt_grid.fit(X_train,y_train)"
   ]
  },
  {
   "cell_type": "code",
   "execution_count": 84,
   "metadata": {},
   "outputs": [
    {
     "data": {
      "text/plain": [
       "{'criterion': 'entropy'}"
      ]
     },
     "execution_count": 84,
     "metadata": {},
     "output_type": "execute_result"
    }
   ],
   "source": [
    "dt_grid.best_params_"
   ]
  },
  {
   "cell_type": "code",
   "execution_count": 74,
   "metadata": {},
   "outputs": [
    {
     "data": {
      "text/plain": [
       "DecisionTreeClassifier()"
      ]
     },
     "execution_count": 74,
     "metadata": {},
     "output_type": "execute_result"
    }
   ],
   "source": [
    "dt=DecisionTreeClassifier(criterion='entropy')\n",
    "dt.fit(X_train,y_train)"
   ]
  },
  {
   "cell_type": "code",
   "execution_count": 75,
   "metadata": {},
   "outputs": [
    {
     "name": "stdout",
     "output_type": "stream",
     "text": [
      "Accuracy of Decision Tree with all features 0.9993733849896942\n"
     ]
    }
   ],
   "source": [
    "print('Accuracy of Decision Tree with all features',dt.score(X_test,y_test))"
   ]
  },
  {
   "cell_type": "code",
   "execution_count": 65,
   "metadata": {},
   "outputs": [
    {
     "name": "stdout",
     "output_type": "stream",
     "text": [
      "MAE: 0.0017067554747918431\n",
      "MSE: 0.004923036781787486\n",
      "RMSE: 0.07016435549328082\n"
     ]
    }
   ],
   "source": [
    "from sklearn import metrics\n",
    "y_pred=dt.predict(X_test)\n",
    "print('MAE:', metrics.mean_absolute_error(y_test, y_pred))\n",
    "print('MSE:', metrics.mean_squared_error(y_test, y_pred))\n",
    "print('RMSE:', np.sqrt(metrics.mean_squared_error(y_test, y_pred)))"
   ]
  },
  {
   "cell_type": "code",
   "execution_count": 86,
   "metadata": {},
   "outputs": [
    {
     "name": "stdout",
     "output_type": "stream",
     "text": [
      "Normalized confusion matrix\n",
      "[[9.99471533e-01 7.19839388e-05 1.14120879e-05 4.45071427e-04]\n",
      " [1.72015061e-03 9.98279849e-01 0.00000000e+00 0.00000000e+00]\n",
      " [1.05858673e-05 0.00000000e+00 9.99989414e-01 0.00000000e+00]\n",
      " [5.62358084e-03 0.00000000e+00 0.00000000e+00 9.94376419e-01]]\n"
     ]
    },
    {
     "data": {
      "image/png": "[encoded data removed]",
      "text/plain": [
       "<Figure size 432x288 with 2 Axes>"
      ]
     },
     "metadata": {
      "needs_background": "light"
     },
     "output_type": "display_data"
    }
   ],
   "source": [
    "cnf_matrix = confusion_matrix(y_test, y_pred)\n",
    "plot_confusion_matrix(cnf_matrix, classes=[\"A\", \"B\", \"C\", \"D\"],\n",
    "                      title='Confusion matrix, Decision Tree (all features)')"
   ]
  },
  {
   "cell_type": "markdown",
   "metadata": {},
   "source": [
    "### Decision Tree (Using feature importance)"
   ]
  },
  {
   "cell_type": "code",
   "execution_count": 76,
   "metadata": {},
   "outputs": [
    {
     "data": {
      "text/plain": [
       "DecisionTreeClassifier()"
      ]
     },
     "execution_count": 76,
     "metadata": {},
     "output_type": "execute_result"
    }
   ],
   "source": [
    "dt1=DecisionTreeClassifier(criterion='entropy')\n",
    "dt1.fit(X_train[feature_names],y_train)"
   ]
  },
  {
   "cell_type": "code",
   "execution_count": 79,
   "metadata": {},
   "outputs": [
    {
     "name": "stdout",
     "output_type": "stream",
     "text": [
      "Accuracy of Decision Tree with top 10 important features 0.9993733849896942\n"
     ]
    }
   ],
   "source": [
    "print('Accuracy of Decision Tree with top 10 important features',dt.score(X_test,y_test))"
   ]
  },
  {
   "cell_type": "code",
   "execution_count": 71,
   "metadata": {},
   "outputs": [
    {
     "name": "stdout",
     "output_type": "stream",
     "text": [
      "MAE: 0.0012470665942806486\n",
      "MSE: 0.0035819779359609733\n",
      "RMSE: 0.05984962770110582\n"
     ]
    }
   ],
   "source": [
    "y_pred1=dt.predict(X_test[feature_names])\n",
    "print('MAE:', metrics.mean_absolute_error(y_test, y_pred1))\n",
    "print('MSE:', metrics.mean_squared_error(y_test, y_pred1))\n",
    "print('RMSE:', np.sqrt(metrics.mean_squared_error(y_test, y_pred1)))"
   ]
  },
  {
   "cell_type": "code",
   "execution_count": 88,
   "metadata": {},
   "outputs": [
    {
     "name": "stdout",
     "output_type": "stream",
     "text": [
      "Normalized confusion matrix\n",
      "[[9.99618134e-01 5.26711747e-05 1.40456466e-05 3.15149195e-04]\n",
      " [1.37612049e-03 9.98623880e-01 0.00000000e+00 0.00000000e+00]\n",
      " [1.05858673e-05 0.00000000e+00 9.99989414e-01 0.00000000e+00]\n",
      " [4.14871719e-03 0.00000000e+00 0.00000000e+00 9.95851283e-01]]\n"
     ]
    },
    {
     "data": {
      "image/png": "[encoded data removed]",
      "text/plain": [
       "<Figure size 432x288 with 2 Axes>"
      ]
     },
     "metadata": {
      "needs_background": "light"
     },
     "output_type": "display_data"
    }
   ],
   "source": [
    "cnf_matrix1 = confusion_matrix(y_test, y_pred1)\n",
    "plot_confusion_matrix(cnf_matrix1, classes=[\"A\", \"B\", \"C\", \"D\"],\n",
    "                      title='Confusion matrix, Decision Tree (10 features)')"
   ]
  },
  {
   "cell_type": "raw",
   "metadata": {},
   "source": [
    "Inference:\n",
    "After using the features with higher importance, we can observe that the accuracy of the model has increased slightly.\n",
    "There is significant dip in Error metrics of the model having features with higher importance."
   ]
  },
  {
   "cell_type": "markdown",
   "metadata": {},
   "source": [
    "### Light GBM"
   ]
  },
  {
   "cell_type": "code",
   "execution_count": 89,
   "metadata": {},
   "outputs": [],
   "source": [
    "import lightgbm as lgb\n",
    "clf = lgb.LGBMClassifier(n_estimators=100,learning_rate=0.05)"
   ]
  },
  {
   "cell_type": "code",
   "execution_count": 94,
   "metadata": {},
   "outputs": [
    {
     "name": "stdout",
     "output_type": "stream",
     "text": [
      "Accuracy of lgbm:  0.9829098460222017\n"
     ]
    }
   ],
   "source": [
    "clf.fit(X_train, y_train)\n",
    "y_pred2 = clf.predict(X_test)\n",
    "print(\"Accuracy of lgbm: \", accuracy_score(y_pred2, y_test))"
   ]
  },
  {
   "cell_type": "code",
   "execution_count": 95,
   "metadata": {},
   "outputs": [
    {
     "data": {
      "image/png": "[encoded data removed]",
      "text/plain": [
       "<Figure size 648x504 with 1 Axes>"
      ]
     },
     "metadata": {
      "needs_background": "light"
     },
     "output_type": "display_data"
    }
   ],
   "source": [
    "fig, ax = plt.subplots(figsize=(9,7))\n",
    "lgb.plot_importance(clf, height=0.8, ax=ax)\n",
    "ax.grid(False)\n",
    "plt.ylabel('Feature', size=12)\n",
    "plt.xlabel('Importance', size=12)\n",
    "plt.title(\"Importance of the Features of our LightGBM Model\", fontsize=13)\n",
    "plt.show()"
   ]
  },
  {
   "cell_type": "code",
   "execution_count": 96,
   "metadata": {},
   "outputs": [],
   "source": [
    "pred = clf.predict_proba(test) # running model on test dataset\n",
    "sub = pd.DataFrame(pred,columns=['A', 'B', 'C', 'D']) # submission dataset\n",
    "sub['id'] = test_id\n",
    "cols = sub.columns.tolist()\n",
    "cols = cols[-1:] + cols[:-1]\n",
    "sub = sub[cols]\n",
    "sub.to_csv(r\"C:\\Users\\priya\\OneDrive\\Desktop\\Priyanshu\\SEMESTER 5\\FDA\\Project Assignments\\lgbm.csv\", index=False)"
   ]
  },
  {
   "cell_type": "code",
   "execution_count": 100,
   "metadata": {},
   "outputs": [
    {
     "data": {
      "text/html": [
       "<div>\n",
       "<style scoped>\n",
       "    .dataframe tbody tr th:only-of-type {\n",
       "        vertical-align: middle;\n",
       "    }\n",
       "\n",
       "    .dataframe tbody tr th {\n",
       "        vertical-align: top;\n",
       "    }\n",
       "\n",
       "    .dataframe thead th {\n",
       "        text-align: right;\n",
       "    }\n",
       "</style>\n",
       "<table border=\"1\" class=\"dataframe\">\n",
       "  <thead>\n",
       "    <tr style=\"text-align: right;\">\n",
       "      <th></th>\n",
       "      <th>id</th>\n",
       "      <th>A</th>\n",
       "      <th>B</th>\n",
       "      <th>C</th>\n",
       "      <th>D</th>\n",
       "    </tr>\n",
       "  </thead>\n",
       "  <tbody>\n",
       "    <tr>\n",
       "      <th>0</th>\n",
       "      <td>0</td>\n",
       "      <td>0.999695</td>\n",
       "      <td>0.000058</td>\n",
       "      <td>0.000209</td>\n",
       "      <td>0.000037</td>\n",
       "    </tr>\n",
       "    <tr>\n",
       "      <th>1</th>\n",
       "      <td>1</td>\n",
       "      <td>0.999668</td>\n",
       "      <td>0.000077</td>\n",
       "      <td>0.000217</td>\n",
       "      <td>0.000039</td>\n",
       "    </tr>\n",
       "    <tr>\n",
       "      <th>2</th>\n",
       "      <td>2</td>\n",
       "      <td>0.999701</td>\n",
       "      <td>0.000053</td>\n",
       "      <td>0.000209</td>\n",
       "      <td>0.000037</td>\n",
       "    </tr>\n",
       "    <tr>\n",
       "      <th>3</th>\n",
       "      <td>3</td>\n",
       "      <td>0.999668</td>\n",
       "      <td>0.000077</td>\n",
       "      <td>0.000217</td>\n",
       "      <td>0.000039</td>\n",
       "    </tr>\n",
       "    <tr>\n",
       "      <th>4</th>\n",
       "      <td>4</td>\n",
       "      <td>0.999690</td>\n",
       "      <td>0.000063</td>\n",
       "      <td>0.000209</td>\n",
       "      <td>0.000037</td>\n",
       "    </tr>\n",
       "  </tbody>\n",
       "</table>\n",
       "</div>"
      ],
      "text/plain": [
       "   id         A         B         C         D\n",
       "0   0  0.999695  0.000058  0.000209  0.000037\n",
       "1   1  0.999668  0.000077  0.000217  0.000039\n",
       "2   2  0.999701  0.000053  0.000209  0.000037\n",
       "3   3  0.999668  0.000077  0.000217  0.000039\n",
       "4   4  0.999690  0.000063  0.000209  0.000037"
      ]
     },
     "execution_count": 100,
     "metadata": {},
     "output_type": "execute_result"
    }
   ],
   "source": [
    "sub.head() # submission file"
   ]
  },
  {
   "cell_type": "code",
   "execution_count": 102,
   "metadata": {},
   "outputs": [
    {
     "name": "stdout",
     "output_type": "stream",
     "text": [
      "MAE: 0.04992015794807211\n",
      "MSE: 0.14836445778027282\n",
      "RMSE: 0.3851810714200178\n"
     ]
    }
   ],
   "source": [
    "print('MAE:', metrics.mean_absolute_error(y_test, y_pred2))\n",
    "print('MSE:', metrics.mean_squared_error(y_test, y_pred2))\n",
    "print('RMSE:', np.sqrt(metrics.mean_squared_error(y_test, y_pred2)))"
   ]
  },
  {
   "cell_type": "code",
   "execution_count": 101,
   "metadata": {},
   "outputs": [
    {
     "name": "stdout",
     "output_type": "stream",
     "text": [
      "Normalized confusion matrix\n",
      "[[9.95485202e-01 6.24153421e-04 4.56483514e-05 3.84499576e-03]\n",
      " [1.06840466e-02 9.89315953e-01 0.00000000e+00 0.00000000e+00]\n",
      " [5.59538698e-05 0.00000000e+00 9.99944046e-01 0.00000000e+00]\n",
      " [2.92160941e-01 0.00000000e+00 0.00000000e+00 7.07839059e-01]]\n"
     ]
    },
    {
     "data": {
      "image/png": "[encoded data removed]",
      "text/plain": [
       "<Figure size 432x288 with 2 Axes>"
      ]
     },
     "metadata": {
      "needs_background": "light"
     },
     "output_type": "display_data"
    }
   ],
   "source": [
    "cnf_matrix2 = confusion_matrix(y_test, y_pred2)\n",
    "plot_confusion_matrix(cnf_matrix2, classes=[\"A\", \"B\", \"C\", \"D\"], title='Confusion matrix, lgbm')"
   ]
  },
  {
   "cell_type": "markdown",
   "metadata": {},
   "source": [
    "### Saving Model"
   ]
  },
  {
   "cell_type": "code",
   "execution_count": 103,
   "metadata": {},
   "outputs": [
    {
     "data": {
      "text/plain": [
       "['C:\\\\Users\\\\priya\\\\OneDrive\\\\Desktop\\\\Priyanshu\\\\SEMESTER 5\\\\FDA\\\\Project Assignments\\\\Reducing Commercial Aviation Fatalities\\\\lgbm_model']"
      ]
     },
     "execution_count": 103,
     "metadata": {},
     "output_type": "execute_result"
    }
   ],
   "source": [
    "import joblib\n",
    "joblib.dump(clf,r\"C:\\Users\\priya\\OneDrive\\Desktop\\Priyanshu\\SEMESTER 5\\FDA\\Project Assignments\\Reducing Commercial Aviation Fatalities\\lgbm_model\")"
   ]
  }
 ],
 "metadata": {
  "kernelspec": {
   "display_name": "Python 3",
   "language": "python",
   "name": "python3"
  },
  "language_info": {
   "codemirror_mode": {
    "name": "ipython",
    "version": 3
   },
   "file_extension": ".py",
   "mimetype": "text/x-python",
   "name": "python",
   "nbconvert_exporter": "python",
   "pygments_lexer": "ipython3",
   "version": "3.8.5"
  }
 },
 "nbformat": 4,
 "nbformat_minor": 4
}
